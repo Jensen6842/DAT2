{
 "cells": [
  {
   "cell_type": "code",
   "execution_count": 9,
   "metadata": {},
   "outputs": [],
   "source": [
    "import numpy as np\n",
    "from sklearn.datasets import make_blobs\n",
    "from sklearn.cluster import KMeans"
   ]
  },
  {
   "cell_type": "code",
   "execution_count": 10,
   "metadata": {},
   "outputs": [],
   "source": [
    "num_of_coordinates = 50\n",
    "initial_cluster_means = [(10, 15), (4, 7)]\n",
    "number_of_clusters = len(initial_cluster_means)"
   ]
  },
  {
   "cell_type": "code",
   "execution_count": 11,
   "metadata": {},
   "outputs": [],
   "source": [
    "dataset = make_blobs(n_samples = num_of_coordinates, centers = initial_cluster_means, n_features = 2, cluster_std = 2)"
   ]
  },
  {
   "cell_type": "code",
   "execution_count": 12,
   "metadata": {},
   "outputs": [
    {
     "name": "stdout",
     "output_type": "stream",
     "text": [
      "[[ 7.56354209  5.25212622]\n",
      " [10.01576612 13.82173745]\n",
      " [10.76723076 12.76030902]\n",
      " [ 9.66130156 14.32187776]\n",
      " [ 2.83759869  8.36277691]\n",
      " [ 0.22483945  7.63429176]\n",
      " [ 3.14080463  8.99608418]\n",
      " [13.82284254 12.76635632]\n",
      " [12.12847871 13.84115442]\n",
      " [ 2.90868559  8.04479661]\n",
      " [ 2.25124851  6.44185897]\n",
      " [ 1.5674116   8.70080727]\n",
      " [ 8.11987923 13.19848456]\n",
      " [ 4.24799314  7.77690581]\n",
      " [10.08476932 11.83616272]\n",
      " [ 3.36716766  3.04048763]\n",
      " [ 6.70679212  8.77228913]\n",
      " [ 2.78562832  7.17363005]\n",
      " [ 1.27565885  5.63277345]\n",
      " [ 6.41504557  5.38910219]\n",
      " [10.98569973 12.81807497]\n",
      " [ 9.64633022 11.58986536]\n",
      " [11.97843399 14.66836634]\n",
      " [ 3.08312068  7.17925525]\n",
      " [ 3.43690045  7.78937968]\n",
      " [ 2.12766742  7.5473985 ]\n",
      " [11.55207926 16.80282306]\n",
      " [ 6.85958884 13.31145522]\n",
      " [ 9.64175868 12.34263396]\n",
      " [ 2.66350732  4.74575771]\n",
      " [11.64435871 14.43268259]\n",
      " [13.21141227 16.07176858]\n",
      " [ 5.01542849  3.3624201 ]\n",
      " [ 8.75219394 11.2017997 ]\n",
      " [ 4.96645109  8.44816498]\n",
      " [ 3.53711818  5.13074789]\n",
      " [ 6.61288673 16.33797892]\n",
      " [12.0627695  12.63425491]\n",
      " [11.68739323 14.51163708]\n",
      " [ 8.43612254  7.25360771]\n",
      " [ 2.29027807  4.06181982]\n",
      " [ 8.38259188 13.64012376]\n",
      " [ 4.04424934  7.0108318 ]\n",
      " [ 4.87505553  9.00447157]\n",
      " [ 9.34028995 12.86685512]\n",
      " [ 4.62220699 16.14348465]\n",
      " [10.16299145 12.35712731]\n",
      " [11.37957227 17.82268717]\n",
      " [ 2.08929728  7.75961202]\n",
      " [12.07026008 18.84697598]]\n"
     ]
    }
   ],
   "source": [
    "random_data = dataset[0]\n",
    "print(random_data)"
   ]
  },
  {
   "cell_type": "code",
   "execution_count": 13,
   "metadata": {},
   "outputs": [
    {
     "data": {
      "text/plain": [
       "KMeans(n_clusters=2)"
      ]
     },
     "execution_count": 13,
     "metadata": {},
     "output_type": "execute_result"
    }
   ],
   "source": [
    "k = KMeans(n_clusters = number_of_clusters)\n",
    "k"
   ]
  },
  {
   "cell_type": "code",
   "execution_count": 14,
   "metadata": {},
   "outputs": [
    {
     "data": {
      "text/plain": [
       "array([0, 1, 1, 1, 0, 0, 0, 1, 1, 0, 0, 0, 1, 0, 1, 0, 0, 0, 0, 0, 1, 1,\n",
       "       1, 0, 0, 0, 1, 1, 1, 0, 1, 1, 0, 1, 0, 0, 1, 1, 1, 0, 0, 1, 0, 0,\n",
       "       1, 1, 1, 1, 0, 1])"
      ]
     },
     "execution_count": 14,
     "metadata": {},
     "output_type": "execute_result"
    }
   ],
   "source": [
    "cluster_data = k.fit_predict(random_data)\n",
    "cluster_data"
   ]
  },
  {
   "cell_type": "code",
   "execution_count": 21,
   "metadata": {},
   "outputs": [],
   "source": [
    "#show graphically here"
   ]
  },
  {
   "cell_type": "code",
   "execution_count": 19,
   "metadata": {},
   "outputs": [
    {
     "name": "stdout",
     "output_type": "stream",
     "text": [
      "[2 0 1 2 1 1 0 2]\n"
     ]
    }
   ],
   "source": [
    "print(KMeans(n_clusters = 3).fit_predict(X))"
   ]
  },
  {
   "cell_type": "code",
   "execution_count": 22,
   "metadata": {},
   "outputs": [],
   "source": [
    "#show graphically here"
   ]
  },
  {
   "cell_type": "code",
   "execution_count": null,
   "metadata": {},
   "outputs": [],
   "source": []
  }
 ],
 "metadata": {
  "kernelspec": {
   "display_name": "Python 3",
   "language": "python",
   "name": "python3"
  },
  "language_info": {
   "codemirror_mode": {
    "name": "ipython",
    "version": 3
   },
   "file_extension": ".py",
   "mimetype": "text/x-python",
   "name": "python",
   "nbconvert_exporter": "python",
   "pygments_lexer": "ipython3",
   "version": "3.8.3"
  }
 },
 "nbformat": 4,
 "nbformat_minor": 4
}
